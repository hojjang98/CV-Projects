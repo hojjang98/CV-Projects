{
  "nbformat": 4,
  "nbformat_minor": 0,
  "metadata": {
    "colab": {
      "provenance": []
    },
    "kernelspec": {
      "name": "python3",
      "display_name": "Python 3"
    },
    "language_info": {
      "name": "python"
    }
  },
  "cells": [
    {
      "cell_type": "code",
      "source": [
        "from tensorflow.keras.models import Sequential, Model\n",
        "from tensorflow.keras.layers import Dense, Reshape, UpSampling2D, Conv2D\n",
        "from tensorflow.keras.layers import BatchNormalization, Activation, Input"
      ],
      "metadata": {
        "id": "z8LH4I3uzrYx"
      },
      "execution_count": 1,
      "outputs": []
    },
    {
      "cell_type": "code",
      "execution_count": 2,
      "metadata": {
        "id": "-OmDPdaDy2Cb"
      },
      "outputs": [],
      "source": [
        "from tensorflow.keras.models import Sequential, Model\n",
        "from tensorflow.keras.layers import Dense, Reshape, UpSampling2D, Conv2D, BatchNormalization, Activation, Input\n",
        "\n",
        "def generator_model():\n",
        "    generator = Sequential()\n",
        "    generator.add(Dense(128 * 7 * 7, activation='relu', input_dim=100))\n",
        "    generator.add(Reshape((7, 7, 128)))\n",
        "    generator.add(UpSampling2D(size=(2, 2)))\n",
        "\n",
        "    generator.add(Conv2D(128, kernel_size=3, padding='same'))\n",
        "    generator.add(BatchNormalization(momentum=0.8))\n",
        "    generator.add(Activation('relu'))\n",
        "    generator.add(UpSampling2D(size=(2, 2)))\n",
        "\n",
        "    generator.add(Conv2D(64, kernel_size=3, padding='same'))\n",
        "    generator.add(BatchNormalization(momentum=0.8))\n",
        "    generator.add(Activation('relu'))\n",
        "\n",
        "    generator.add(Conv2D(1, kernel_size=3, padding='same'))\n",
        "    generator.add(Activation('tanh'))\n",
        "\n",
        "    generator.summary()\n",
        "\n",
        "    noise = Input(shape=(100,))\n",
        "    img = generator(noise)\n",
        "\n",
        "    return Model(noise, img)"
      ]
    }
  ]
}