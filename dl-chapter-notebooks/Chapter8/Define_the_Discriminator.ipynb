{
  "cells": [
    {
      "cell_type": "code",
      "execution_count": null,
      "metadata": {
        "id": "3ttaASwHujvH"
      },
      "outputs": [],
      "source": [
        "def discriminator_model():\n",
        "  discriminator = Sequential()\n",
        "\n",
        "  discriminator.add(Conv2D(32, kernel_size = 3, strides = 2, input_shape = (28, 28, 1), padding = 'same'))\n",
        "  discriminator.add(LeakyReLU(alpha = 0.2))\n",
        "\n",
        "  discriminator.add(Dropout(0.25))\n",
        "\n",
        "  discriminator.add(Conv2D(32, kernel_size = 3, strides = 2, padding = 'same'))\n",
        "  discriminator.add(ZeroPadding2D(padding = ((0, 1), (0, 1))))\n",
        "\n",
        "  discriminator.add(BatchNormalization(momentum = 0.8))\n",
        "  discriminator.add(LeakyReLU(alpha = 0.2))\n",
        "  discriminator.add(Dropout(0.25))\n",
        "\n",
        "  discriminator.add(Conv2D(32, kernel_size = 3, strides = 2, padding = 'same'))\n",
        "  discriminator.add(BatchNormalization(momentum = 0.8))\n",
        "  discriminator.add(LeakyReLU(alpha = 0.2))\n",
        "  discriminator.add(Dropout(0.25))\n",
        "\n",
        "  discriminator.add(Conv2D(32, kernel_size = 3, strides = 1, padding = 'same'))\n",
        "  discriminator.add(BatchNormalization(momentum = 0.8))\n",
        "  discriminator.add(LeakyReLU(alpha = 0.2))\n",
        "  discriminator.add(Dropout(0.25))\n",
        "\n",
        "  discriminator.add(Flatten())\n",
        "  discriminator.add(Dense(1, activation = 'sigmoid'))\n",
        "\n",
        "  discriminator.summary()\n",
        "\n",
        "  img_shape = (28, 28, 1)\n",
        "  img = Input(shape = img_shape)\n",
        "  probability = discriminator(img)\n",
        "\n",
        "  return Model(img, validity)"
      ]
    }
  ],
  "metadata": {
    "colab": {
      "provenance": []
    },
    "kernelspec": {
      "display_name": "Python 3",
      "name": "python3"
    },
    "language_info": {
      "name": "python"
    }
  },
  "nbformat": 4,
  "nbformat_minor": 0
}
