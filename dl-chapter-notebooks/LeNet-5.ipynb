{
 "cells": [
  {
   "cell_type": "markdown",
   "id": "a1bf6734",
   "metadata": {},
   "source": [
    "# 🧠 LeNet-5 구현 (Keras)\n",
    "\n",
    "이 노트북은 고전적인 CNN 모델인 **LeNet-5** 구조를 Keras로 구현한 것입니다.  \n",
    "주로 **MNIST**와 같은 흑백 이미지 분류 실습에 사용되며, **학습 목적의 예제 코드**입니다.\n",
    "\n",
    "> 🔸 본 코드는 학습/평가 목적이 아닌, 구조 구현 실습용입니다.\n",
    "\n",
    "## 📌 구성 개요\n",
    "- LeNet-5 아키텍처 구성\n",
    "- Average Pooling 및 tanh 활성화 함수 사용\n",
    "- Keras Sequential 모델 구조 적용\n"
   ]
  },
  {
   "cell_type": "markdown",
   "metadata": {
    "id": "DrH2SDMfln54"
   },
   "source": [
    "LeNet-5"
   ]
  },
  {
   "cell_type": "markdown",
   "metadata": {
    "id": "fEVaGgyBlqLr"
   },
   "source": [
    "Import Libraries"
   ]
  },
  {
   "cell_type": "markdown",
   "metadata": {
    "id": "XXuXNXs_l2Zd"
   },
   "source": [
    "Define Model"
   ]
  },
  {
   "cell_type": "code",
   "execution_count": null,
   "metadata": {
    "colab": {
     "base_uri": "https://localhost:8080/",
     "height": 430
    },
    "id": "qzJGkNzkl0-x",
    "outputId": "1826fd1f-247e-4af5-c23e-b5c342ab27d4"
   },
   "outputs": [],
   "source": [
    "# First convolution layer: 6 filters, 5x5 kernel, tanh activation\n",
    "from tensorflow.keras.models import Sequential\n",
    "from tensorflow.keras.layers import Conv2D, AveragePooling2D, Flatten, Dense\n",
    "\n",
    "model = Sequential()\n",
    "\n",
    "model.add(Conv2D(filters=6, kernel_size=5, strides=1, activation='tanh',\n",
    "                 input_shape=(28, 28, 1), padding='same'))\n",
    "\n",
    "model.add(AveragePooling2D(pool_size=2, strides=2, padding='valid'))\n",
    "\n",
    "model.add(Conv2D(filters=16, kernel_size=5, strides=1, activation='tanh',\n",
    "                 padding='valid'))\n",
    "\n",
    "model.add(AveragePooling2D(pool_size=2, strides=2, padding='valid'))\n",
    "\n",
    "model.add(Conv2D(filters=120, kernel_size=5, strides=1, activation='tanh',\n",
    "                 padding='valid'))\n",
    "\n",
    "\n",
    "model.add(Flatten())\n",
    "\n",
    "model.add(Dense(units=84, activation='tanh'))\n",
    "\n",
    "model.add(Dense(units=10, activation='softmax'))\n",
    "\n",
    "model.summary()\n"
   ]
  },
  {
   "cell_type": "code",
   "execution_count": null,
   "metadata": {
    "id": "KSOW0pgxmlqZ"
   },
   "outputs": [],
   "source": [
    "def lr_schedule(epoch):\n",
    "  if epoch <= 2:\n",
    "    lr = 5e-4\n",
    "  elif epoch >2 and epoch <= 5:\n",
    "    lr = 2e-4\n",
    "  elif epoch > 5 and epoch <= 9:\n",
    "    lr = 5e-5\n",
    "  else:\n",
    "    lr = 1e-5\n",
    "  return lr"
   ]
  },
  {
   "cell_type": "code",
   "execution_count": null,
   "metadata": {
    "id": "DZllWxXDnhQQ"
   },
   "outputs": [],
   "source": [
    "from keras.callbacks import ModelCheckpoint, LearningRateScheduler\n",
    "from keras.callbacks import ReduceLROnPlateau\n",
    "\n",
    "lr_reducer = ReduceLROnPlateau(monitor='val_loss', factor=0.1, patience=5)\n",
    "\n",
    "lr_scheulder = LearningRateScheduler(lr_schedule)\n",
    "checkpoint = ModelCheckpoint(   filepath='path_to_save_file/file.keras',\n",
    "                             monitor = 'val_acc',\n",
    "                             verbose = 1,\n",
    "                             save_best_only = True)\n",
    "callbacks = [checkpoint, lr_reducer]\n",
    "\n",
    "model.compile(loss = 'categorical_crossentropy', optimizer = 'sgd',\n",
    "              metrics = ['accuracy'])"
   ]
  }
 ],
 "metadata": {
  "colab": {
   "provenance": []
  },
  "kernelspec": {
   "display_name": "Python 3",
   "name": "python3"
  },
  "language_info": {
   "name": "python"
  }
 },
 "nbformat": 4,
 "nbformat_minor": 0
}
