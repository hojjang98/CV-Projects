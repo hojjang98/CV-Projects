{
  "cells": [
    {
      "cell_type": "code",
      "execution_count": null,
      "metadata": {
        "id": "ZndiGJrVqXWu"
      },
      "outputs": [],
      "source": [
        "import tensorflow as tf\n",
        "from tensorflow.keras.models import Model\n",
        "from tensorflow.keras.layers import (Input, Conv2D, MaxPooling2D, Dense,\n",
        "                                     Flatten, Dropout, BatchNormalization)\n",
        "from tensorflow.keras.regularizers import l2\n",
        "\n",
        "input_shape = (227, 227, 3)\n",
        "weight_decay = 0.0005\n",
        "\n",
        "inputs = Input(shape=input_shape)\n",
        "\n",
        "# Conv1\n",
        "x = Conv2D(96, kernel_size=(11, 11), strides=4, activation='relu',\n",
        "           kernel_regularizer=l2(weight_decay))(inputs)\n",
        "x = BatchNormalization()(x)\n",
        "x = MaxPooling2D(pool_size=(3, 3), strides=2)(x)\n",
        "\n",
        "# Conv2\n",
        "x = Conv2D(256, kernel_size=(5, 5), padding='same', activation='relu',\n",
        "           kernel_regularizer=l2(weight_decay))(x)\n",
        "x = BatchNormalization()(x)\n",
        "x = MaxPooling2D(pool_size=(3, 3), strides=2)(x)\n",
        "\n",
        "# Conv3\n",
        "x = Conv2D(384, kernel_size=(3, 3), padding='same', activation='relu',\n",
        "           kernel_regularizer=l2(weight_decay))(x)\n",
        "x = BatchNormalization()(x)\n",
        "\n",
        "# Conv4\n",
        "x = Conv2D(384, kernel_size=(3, 3), padding='same', activation='relu',\n",
        "           kernel_regularizer=l2(weight_decay))(x)\n",
        "x = BatchNormalization()(x)\n",
        "\n",
        "# Conv5\n",
        "x = Conv2D(256, kernel_size=(3, 3), padding='same', activation='relu',\n",
        "           kernel_regularizer=l2(weight_decay))(x)\n",
        "x = BatchNormalization()(x)\n",
        "x = MaxPooling2D(pool_size=(3, 3), strides=2)(x)\n",
        "\n",
        "# FC layers\n",
        "x = Flatten()(x)\n",
        "x = Dense(4096, activation='relu', kernel_regularizer=l2(weight_decay))(x)\n",
        "x = Dropout(0.5)(x)\n",
        "x = Dense(4096, activation='relu', kernel_regularizer=l2(weight_decay))(x)\n",
        "x = Dropout(0.5)(x)\n",
        "outputs = Dense(1000, activation='softmax')(x) \n",
        "\n",
        "alexnet = Model(inputs=inputs, outputs=outputs)\n",
        "\n",
        "alexnet.compile(optimizer='adam', loss='categorical_crossentropy', metrics=['accuracy'])\n",
        "alexnet.summary()\n"
      ]
    }
  ],
  "metadata": {
    "colab": {
      "provenance": []
    },
    "kernelspec": {
      "display_name": "Python 3",
      "name": "python3"
    },
    "language_info": {
      "name": "python"
    }
  },
  "nbformat": 4,
  "nbformat_minor": 0
}
