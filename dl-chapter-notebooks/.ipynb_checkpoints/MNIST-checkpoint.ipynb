{
 "cells": [
  {
   "cell_type": "markdown",
   "id": "5093b2c5",
   "metadata": {},
   "source": [
    "Model Structure"
   ]
  },
  {
   "cell_type": "code",
   "execution_count": null,
   "id": "972fed43",
   "metadata": {},
   "outputs": [],
   "source": [
    "from keras.models import Sequential\n",
    "from keras.layers import Conv2D, MaxPooling2D,  Flatten, Dense, Dropout"
   ]
  },
  {
   "cell_type": "code",
   "execution_count": null,
   "id": "08176657",
   "metadata": {},
   "outputs": [],
   "source": [
    "model = Sequential()"
   ]
  },
  {
   "cell_type": "code",
   "execution_count": null,
   "id": "de7c3f5e",
   "metadata": {},
   "outputs": [],
   "source": [
    "from keras.models import Sequential\n",
    "from keras.layers import Conv2D, MaxPooling2D, Flatten, Dense\n",
    "\n",
    "model = Sequential()\n",
    "\n",
    "model.add(Conv2D(32, kernel_size=(3, 3), strides=1, padding='same',\n",
    "                 activation='relu', input_shape=(28, 28, 1)))  # first convolutional layer\n",
    "model.add(MaxPooling2D(pool_size=(2, 2)))  # first max pooling layer\n",
    "\n",
    "model.add(Conv2D(64, kernel_size=(3, 3), strides=1, padding='same',\n",
    "                 activation='relu'))  # second convolutional layer\n",
    "model.add(MaxPooling2D(pool_size=(2, 2)))  # second max pooling layer\n",
    "\n",
    "model.add(Flatten())  # convert 2D feature maps to 1D feature vector\n",
    "\n",
    "model.add(Dense(64, activation='relu'))  # hidden layer with 64 neurons\n",
    "\n",
    "model.add(Dense(10, activation='softmax'))  # output layer with 10 classes (softmax for multi-class classification)\n",
    "\n",
    "model.summary()  # display model architecture summary"
   ]
  }
 ],
 "metadata": {
  "kernelspec": {
   "display_name": "Python (tf_env)",
   "language": "python",
   "name": "tf_env"
  },
  "language_info": {
   "codemirror_mode": {
    "name": "ipython",
    "version": 3
   },
   "file_extension": ".py",
   "mimetype": "text/x-python",
   "name": "python",
   "nbconvert_exporter": "python",
   "pygments_lexer": "ipython3",
   "version": "3.9.21"
  }
 },
 "nbformat": 4,
 "nbformat_minor": 5
}
