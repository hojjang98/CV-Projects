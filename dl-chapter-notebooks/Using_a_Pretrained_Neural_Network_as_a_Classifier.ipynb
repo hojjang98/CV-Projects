{
  "nbformat": 4,
  "nbformat_minor": 0,
  "metadata": {
    "colab": {
      "provenance": []
    },
    "kernelspec": {
      "name": "python3",
      "display_name": "Python 3"
    },
    "language_info": {
      "name": "python"
    }
  },
  "cells": [
    {
      "cell_type": "markdown",
      "source": [
        "Import Libraries"
      ],
      "metadata": {
        "id": "9ce4vOGq_sBJ"
      }
    },
    {
      "cell_type": "code",
      "execution_count": 3,
      "metadata": {
        "id": "tkXgaG1YwcLA"
      },
      "outputs": [],
      "source": [
        "from keras.preprocessing.image import load_img\n",
        "from keras.preprocessing.image import img_to_array\n",
        "from keras.applications.vgg16 import preprocess_input\n",
        "from keras.applications.vgg16 import decode_predictions\n",
        "from keras.applications.vgg16 import VGG16"
      ]
    },
    {
      "cell_type": "markdown",
      "source": [
        "Load Pre-trained Base Mode"
      ],
      "metadata": {
        "id": "3IYgEFqv_8Nr"
      }
    },
    {
      "cell_type": "code",
      "source": [
        "model = VGG16(weights = 'imagenet', include_top = False, input_shape = (224, 224, 3))"
      ],
      "metadata": {
        "colab": {
          "base_uri": "https://localhost:8080/"
        },
        "id": "jeL7ANJF_uQr",
        "outputId": "5a13b72f-2b45-4542-918c-f710d62495ff"
      },
      "execution_count": 4,
      "outputs": [
        {
          "output_type": "stream",
          "name": "stdout",
          "text": [
            "Downloading data from https://storage.googleapis.com/tensorflow/keras-applications/vgg16/vgg16_weights_tf_dim_ordering_tf_kernels_notop.h5\n",
            "\u001b[1m58889256/58889256\u001b[0m \u001b[32m━━━━━━━━━━━━━━━━━━━━\u001b[0m\u001b[37m\u001b[0m \u001b[1m3s\u001b[0m 0us/step\n"
          ]
        }
      ]
    },
    {
      "cell_type": "markdown",
      "source": [
        "Load Images & Preprocessing"
      ],
      "metadata": {
        "id": "uU-AcOLqAO6g"
      }
    },
    {
      "cell_type": "code",
      "source": [
        "image = load_img('path/to/image.jpg', target_size = (224, 224)) #Load Image\n",
        "image = img_to_array(image) #Convert Image to Numpy-array\n",
        "image = image.reshape((1, image.shape[0], image.shape[1], image.shape[2]))\n",
        "image = preprocess_input(image)"
      ],
      "metadata": {
        "id": "TkEwlipbBG7B"
      },
      "execution_count": null,
      "outputs": []
    },
    {
      "cell_type": "markdown",
      "source": [
        "Predict"
      ],
      "metadata": {
        "id": "lhag77xJBHfl"
      }
    },
    {
      "cell_type": "code",
      "source": [
        "yhat = model.predict(image)\n",
        "label = decode_predictions(yhat)\n",
        "labl = label[0][0]\n",
        "print('%s (%.2f%%)' % (labl[1], labl[2]*100))"
      ],
      "metadata": {
        "id": "5n6V2oe5BJFH"
      },
      "execution_count": null,
      "outputs": []
    }
  ]
}