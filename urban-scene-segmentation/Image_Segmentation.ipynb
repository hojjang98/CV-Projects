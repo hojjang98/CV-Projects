{
 "cells": [
  {
   "cell_type": "markdown",
   "id": "df826e65",
   "metadata": {},
   "source": [
    "Import Libraries"
   ]
  },
  {
   "cell_type": "code",
   "execution_count": 1,
   "id": "91e339d2",
   "metadata": {},
   "outputs": [
    {
     "name": "stdout",
     "output_type": "stream",
     "text": [
      "✅ Using device: cpu\n"
     ]
    }
   ],
   "source": [
    "import os\n",
    "import numpy as np\n",
    "import matplotlib.pyplot as plt\n",
    "from PIL import Image\n",
    "from glob import glob\n",
    "from tqdm import tqdm\n",
    "\n",
    "# PyTorch\n",
    "import torch\n",
    "import torch.nn as nn\n",
    "import torch.optim as optim\n",
    "from torch.utils.data import Dataset, DataLoader\n",
    "from torchvision import transforms\n",
    "\n",
    "\n",
    "import segmentation_models_pytorch as smp\n",
    "\n",
    "\n",
    "import warnings\n",
    "warnings.filterwarnings(\"ignore\")\n",
    "\n",
    "\n",
    "device = torch.device(\"cuda\" if torch.cuda.is_available() else \"cpu\")\n",
    "print(f\"✅ Using device: {device}\")"
   ]
  },
  {
   "cell_type": "markdown",
   "id": "99e2c65b",
   "metadata": {},
   "source": [
    "Data Path & Dataset Class"
   ]
  },
  {
   "cell_type": "code",
   "execution_count": 2,
   "id": "0b98b828",
   "metadata": {},
   "outputs": [],
   "source": [
    "train_image_dir = r\"C:\\Users\\ghwns\\HJ_git\\CV-Projects\\urban-scene-segmentation\\Dataset\\Cityspaces\\images\\train\"\n",
    "train_mask_dir  = r\"C:\\Users\\ghwns\\HJ_git\\CV-Projects\\urban-scene-segmentation\\Dataset\\Cityspaces\\gtFine\\train\"\n",
    "\n",
    "val_image_dir = r\"C:\\Users\\ghwns\\HJ_git\\CV-Projects\\urban-scene-segmentation\\Dataset\\Cityspaces\\images\\val\"\n",
    "val_mask_dir  = r\"C:\\Users\\ghwns\\HJ_git\\CV-Projects\\urban-scene-segmentation\\Dataset\\Cityspaces\\gtFine\\val\"\n",
    "\n",
    "\n",
    "\n",
    "class CityscapesDataset(Dataset):\n",
    "    def __init__(self, image_dir, mask_dir, resize=(256, 256)):\n",
    "        self.image_paths = sorted(glob(os.path.join(image_dir, \"*\", \"*.png\")))\n",
    "        self.mask_paths  = [p.replace(\"images\", \"gtFine\").replace(\"_leftImg8bit\", \"_gtFine_labelIds\") for p in self.image_paths]\n",
    "\n",
    "        self.resize = resize\n",
    "        self.to_tensor = transforms.ToTensor()\n",
    "        self.resize_img = transforms.Resize(resize)\n",
    "        self.resize_mask = transforms.Resize(resize, interpolation=Image.NEAREST)\n",
    "\n",
    "    def __len__(self):\n",
    "        return len(self.image_paths)\n",
    "\n",
    "    def __getitem__(self, idx):\n",
    "        image = Image.open(self.image_paths[idx]).convert(\"RGB\")\n",
    "        mask  = Image.open(self.mask_paths[idx])\n",
    "\n",
    "        image = self.resize_img(image)\n",
    "        mask  = self.resize_mask(mask)\n",
    "\n",
    "        image = self.to_tensor(image)\n",
    "        mask  = torch.from_numpy(np.array(mask)).long()\n",
    "\n",
    "        return image, mask"
   ]
  },
  {
   "cell_type": "code",
   "execution_count": 3,
   "id": "23f4ec23",
   "metadata": {},
   "outputs": [
    {
     "name": "stdout",
     "output_type": "stream",
     "text": [
      "✅ Train samples: 2975 | Val samples: 500\n"
     ]
    }
   ],
   "source": [
    "train_dataset = CityscapesDataset(\n",
    "    image_dir=train_image_dir,\n",
    "    mask_dir=train_mask_dir,\n",
    "    resize=(256, 256)\n",
    ")\n",
    "\n",
    "val_dataset = CityscapesDataset(\n",
    "    image_dir=val_image_dir,\n",
    "    mask_dir=val_mask_dir,\n",
    "    resize=(256, 256)\n",
    ")\n",
    "\n",
    "\n",
    "train_loader = DataLoader(train_dataset, batch_size=4, shuffle=True, num_workers=0)\n",
    "val_loader = DataLoader(val_dataset, batch_size=4, shuffle=False, num_workers=0)\n",
    "\n",
    "print(f\"✅ Train samples: {len(train_dataset)} | Val samples: {len(val_dataset)}\")"
   ]
  },
  {
   "cell_type": "markdown",
   "id": "5eebea36",
   "metadata": {},
   "source": [
    "Define Model & Loss + Optimizer"
   ]
  },
  {
   "cell_type": "code",
   "execution_count": 4,
   "id": "96c1a88d",
   "metadata": {},
   "outputs": [
    {
     "name": "stdout",
     "output_type": "stream",
     "text": [
      "✅ Model, loss, optimizer initialized.\n"
     ]
    }
   ],
   "source": [
    "# 모델 정의\n",
    "model = smp.Unet(\n",
    "    encoder_name=\"resnet34\",        \n",
    "    encoder_weights=\"imagenet\",    \n",
    "    in_channels=3,                \n",
    "    classes=34                      \n",
    ")\n",
    "\n",
    "\n",
    "model = model.to(device)\n",
    "\n",
    "\n",
    "criterion = nn.CrossEntropyLoss()\n",
    "\n",
    "\n",
    "optimizer = optim.Adam(model.parameters(), lr=1e-4)\n",
    "\n",
    "print(\"✅ Model, loss, optimizer initialized.\")"
   ]
  },
  {
   "cell_type": "markdown",
   "id": "500babf7",
   "metadata": {},
   "source": [
    "Training loop"
   ]
  },
  {
   "cell_type": "code",
   "execution_count": null,
   "id": "5d7ee878",
   "metadata": {},
   "outputs": [
    {
     "name": "stdout",
     "output_type": "stream",
     "text": [
      "\n",
      "🔁 Epoch 1/5\n"
     ]
    },
    {
     "name": "stderr",
     "output_type": "stream",
     "text": [
      "🔧 Training:  61%|██████████████████████████████████▎                     | 456/744 [28:22<15:35,  3.25s/it, loss=0.89]"
     ]
    }
   ],
   "source": [
    "from tqdm import tqdm\n",
    "\n",
    "num_epochs = 5  \n",
    "\n",
    "for epoch in range(num_epochs):\n",
    "    model.train()\n",
    "    train_loss = 0\n",
    "\n",
    "    print(f\"\\n🔁 Epoch {epoch+1}/{num_epochs}\")\n",
    "\n",
    "    # --- Train loop with tqdm ---\n",
    "    train_loader_tqdm = tqdm(train_loader, desc=\"🔧 Training\", leave=False)\n",
    "    for images, masks in train_loader_tqdm:\n",
    "        images, masks = images.to(device), masks.to(device)\n",
    "\n",
    "        outputs = model(images)\n",
    "        loss = criterion(outputs, masks)\n",
    "\n",
    "        optimizer.zero_grad()\n",
    "        loss.backward()\n",
    "        optimizer.step()\n",
    "\n",
    "        train_loss += loss.item()\n",
    "        train_loader_tqdm.set_postfix(loss=loss.item())\n",
    "\n",
    "    # --- Validation loop with tqdm ---\n",
    "    model.eval()\n",
    "    val_loss = 0\n",
    "\n",
    "    val_loader_tqdm = tqdm(val_loader, desc=\"🔍 Validating\", leave=False)\n",
    "    with torch.no_grad():\n",
    "        for images, masks in val_loader_tqdm:\n",
    "            images, masks = images.to(device), masks.to(device)\n",
    "\n",
    "            outputs = model(images)\n",
    "            loss = criterion(outputs, masks)\n",
    "\n",
    "            val_loss += loss.item()\n",
    "            val_loader_tqdm.set_postfix(val_loss=loss.item())\n",
    "\n",
    "    # --- Epoch summary ---\n",
    "    print(f\"✅ Epoch [{epoch+1}/{num_epochs}] | 🟢 Train Loss: {train_loss:.4f} | 🔵 Val Loss: {val_loss:.4f}\")"
   ]
  }
 ],
 "metadata": {
  "kernelspec": {
   "display_name": "Python (ml_env)",
   "language": "python",
   "name": "ml_env"
  },
  "language_info": {
   "codemirror_mode": {
    "name": "ipython",
    "version": 3
   },
   "file_extension": ".py",
   "mimetype": "text/x-python",
   "name": "python",
   "nbconvert_exporter": "python",
   "pygments_lexer": "ipython3",
   "version": "3.10.16"
  }
 },
 "nbformat": 4,
 "nbformat_minor": 5
}
